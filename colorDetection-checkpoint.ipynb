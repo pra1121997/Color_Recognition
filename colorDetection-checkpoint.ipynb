{
 "cells": [
  {
   "cell_type": "code",
   "execution_count": 6,
   "id": "6a4b2ffc",
   "metadata": {},
   "outputs": [],
   "source": [
    "import cv2\n",
    "import pandas as pd"
   ]
  },
  {
   "cell_type": "code",
   "execution_count": null,
   "id": "57b8c706",
   "metadata": {},
   "outputs": [
    {
     "name": "stdout",
     "output_type": "stream",
     "text": [
      "left button clicked on position  967 95\n",
      "0 0 255\n",
      "int color detection function\n",
      "255\n",
      "126\n",
      "0\n"
     ]
    }
   ],
   "source": [
    "image = cv2.imread(r'C:\\Users\\LENOVO\\Pictures\\My_project_snip.png')\n",
    "#if image.size !=0:\n",
    "#    print(\"img not read\",image)\n",
    "cv2.namedWindow('test')\n",
    "index=[\"color\",\"colorName\",\"value\",\"R\",\"G\",\"B\"]\n",
    "file=pd.read_csv(r\"C:\\Users\\LENOVO\\Downloads\\Color-Detection-OpenCV-main\\colors.csv\",names=index,header=None)\n",
    "def color_calculation(b,g,r):\n",
    "    print(\"int color detection function\")\n",
    "    for i in range(len(file)):\n",
    "        print(abs(r-file.loc[i,\"R\"]))\n",
    "def click_detection(event,x,y,flags,param):\n",
    "    if event==cv2.EVENT_LBUTTONDOWN:\n",
    "        print(\"left button clicked on position \",x,y)\n",
    "        b,g,r=image[y,x]\n",
    "        print(b,g,r)\n",
    "        color_calculation(b,g,r);\n",
    "cv2.setMouseCallback('test',click_detection)\n",
    "cv2.imshow(\"test\", image)\n",
    "cv2.waitKey(0)\n",
    "cv2.destroyAllWindows()"
   ]
  },
  {
   "cell_type": "raw",
   "id": "63013a4e",
   "metadata": {},
   "source": []
  },
  {
   "cell_type": "code",
   "execution_count": 3,
   "id": "372e1e0f",
   "metadata": {},
   "outputs": [
    {
     "name": "stdout",
     "output_type": "stream",
     "text": [
      "r;gsrjs\n"
     ]
    }
   ],
   "source": [
    "print(\"r;gsrjs\")"
   ]
  },
  {
   "cell_type": "code",
   "execution_count": null,
   "id": "59adf28f",
   "metadata": {},
   "outputs": [],
   "source": []
  }
 ],
 "metadata": {
  "kernelspec": {
   "display_name": "Python 3 (ipykernel)",
   "language": "python",
   "name": "python3"
  },
  "language_info": {
   "codemirror_mode": {
    "name": "ipython",
    "version": 3
   },
   "file_extension": ".py",
   "mimetype": "text/x-python",
   "name": "python",
   "nbconvert_exporter": "python",
   "pygments_lexer": "ipython3",
   "version": "3.8.5"
  }
 },
 "nbformat": 4,
 "nbformat_minor": 5
}
